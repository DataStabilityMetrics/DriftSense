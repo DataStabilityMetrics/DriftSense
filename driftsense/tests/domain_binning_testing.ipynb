{
 "cells": [
  {
   "cell_type": "code",
   "execution_count": 1,
   "id": "455c571c-ccf5-4521-8379-8de033776c7c",
   "metadata": {},
   "outputs": [],
   "source": [
    "import pandas as pd\n",
    "import os\n",
    "from calculate_all_features_drift import calculate_all_features_drift\n",
    "from calculate_feature_drift import calculate_feature_drift\n",
    "\n",
    "\n",
    "# Directory to save test results\n",
    "os.makedirs(\"test_results\", exist_ok=True)\n"
   ]
  },
  {
   "cell_type": "code",
   "execution_count": 2,
   "id": "74cdee0e-a5e0-4d93-b4e2-96f01a9ebb1b",
   "metadata": {},
   "outputs": [
    {
     "ename": "TypeError",
     "evalue": "'<' not supported between instances of 'int' and 'dict'",
     "output_type": "error",
     "traceback": [
      "\u001b[1;31m---------------------------------------------------------------------------\u001b[0m",
      "\u001b[1;31mTypeError\u001b[0m                                 Traceback (most recent call last)",
      "Cell \u001b[1;32mIn[2], line 18\u001b[0m\n\u001b[0;32m      9\u001b[0m new_df_1 \u001b[38;5;241m=\u001b[39m pd\u001b[38;5;241m.\u001b[39mDataFrame({\n\u001b[0;32m     10\u001b[0m     \u001b[38;5;124m'\u001b[39m\u001b[38;5;124mage\u001b[39m\u001b[38;5;124m'\u001b[39m: [\u001b[38;5;241m24\u001b[39m, \u001b[38;5;241m32\u001b[39m, \u001b[38;5;241m46\u001b[39m, \u001b[38;5;241m54\u001b[39m, \u001b[38;5;241m28\u001b[39m, \u001b[38;5;241m42\u001b[39m, \u001b[38;5;241m39\u001b[39m, \u001b[38;5;241m50\u001b[39m, \u001b[38;5;241m53\u001b[39m, \u001b[38;5;241m27\u001b[39m],\n\u001b[0;32m     11\u001b[0m     \u001b[38;5;124m'\u001b[39m\u001b[38;5;124meducation\u001b[39m\u001b[38;5;124m'\u001b[39m: [\u001b[38;5;124m'\u001b[39m\u001b[38;5;124mHS-grad\u001b[39m\u001b[38;5;124m'\u001b[39m, \u001b[38;5;124m'\u001b[39m\u001b[38;5;124mBachelors\u001b[39m\u001b[38;5;124m'\u001b[39m, \u001b[38;5;124m'\u001b[39m\u001b[38;5;124mSome-college\u001b[39m\u001b[38;5;124m'\u001b[39m, \u001b[38;5;124m'\u001b[39m\u001b[38;5;124mMasters\u001b[39m\u001b[38;5;124m'\u001b[39m, \u001b[38;5;124m'\u001b[39m\u001b[38;5;124mHS-grad\u001b[39m\u001b[38;5;124m'\u001b[39m,\n\u001b[0;32m     12\u001b[0m                   \u001b[38;5;124m'\u001b[39m\u001b[38;5;124mBachelors\u001b[39m\u001b[38;5;124m'\u001b[39m, \u001b[38;5;124m'\u001b[39m\u001b[38;5;124mAssoc-voc\u001b[39m\u001b[38;5;124m'\u001b[39m, \u001b[38;5;124m'\u001b[39m\u001b[38;5;124mHS-grad\u001b[39m\u001b[38;5;124m'\u001b[39m, \u001b[38;5;124m'\u001b[39m\u001b[38;5;124mSome-college\u001b[39m\u001b[38;5;124m'\u001b[39m, \u001b[38;5;124m'\u001b[39m\u001b[38;5;124mMasters\u001b[39m\u001b[38;5;124m'\u001b[39m]\n\u001b[0;32m     13\u001b[0m })\n\u001b[0;32m     14\u001b[0m domain_bins \u001b[38;5;241m=\u001b[39m {\n\u001b[0;32m     15\u001b[0m     \u001b[38;5;124m'\u001b[39m\u001b[38;5;124mage\u001b[39m\u001b[38;5;124m'\u001b[39m: [\u001b[38;5;241m0\u001b[39m, \u001b[38;5;241m25\u001b[39m, \u001b[38;5;241m35\u001b[39m, \u001b[38;5;241m45\u001b[39m, \u001b[38;5;241m55\u001b[39m, \u001b[38;5;241m100\u001b[39m],\n\u001b[0;32m     16\u001b[0m     \u001b[38;5;124m'\u001b[39m\u001b[38;5;124meducation\u001b[39m\u001b[38;5;124m'\u001b[39m: [\u001b[38;5;124m'\u001b[39m\u001b[38;5;124mBachelors\u001b[39m\u001b[38;5;124m'\u001b[39m, \u001b[38;5;124m'\u001b[39m\u001b[38;5;124mHS-grad\u001b[39m\u001b[38;5;124m'\u001b[39m, \u001b[38;5;124m'\u001b[39m\u001b[38;5;124mMasters\u001b[39m\u001b[38;5;124m'\u001b[39m, \u001b[38;5;124m'\u001b[39m\u001b[38;5;124mSome-college\u001b[39m\u001b[38;5;124m'\u001b[39m, \u001b[38;5;124m'\u001b[39m\u001b[38;5;124mAssoc-acdm\u001b[39m\u001b[38;5;124m'\u001b[39m, \u001b[38;5;124m'\u001b[39m\u001b[38;5;124mAssoc-voc\u001b[39m\u001b[38;5;124m'\u001b[39m]\n\u001b[0;32m     17\u001b[0m }\n\u001b[1;32m---> 18\u001b[0m csi_df_1, details_1 \u001b[38;5;241m=\u001b[39m \u001b[43mcalculate_all_features_drift\u001b[49m\u001b[43m(\u001b[49m\u001b[43mreference_df_1\u001b[49m\u001b[43m,\u001b[49m\u001b[43m \u001b[49m\u001b[43mnew_df_1\u001b[49m\u001b[43m,\u001b[49m\u001b[43m \u001b[49m\u001b[43mbins\u001b[49m\u001b[38;5;241;43m=\u001b[39;49m\u001b[43mdomain_bins\u001b[49m\u001b[43m,\u001b[49m\u001b[43m \u001b[49m\u001b[43mmethod\u001b[49m\u001b[38;5;241;43m=\u001b[39;49m\u001b[38;5;124;43m'\u001b[39;49m\u001b[38;5;124;43mdomain\u001b[39;49m\u001b[38;5;124;43m'\u001b[39;49m\u001b[43m)\u001b[49m\n\u001b[0;32m     19\u001b[0m csi_df_1\u001b[38;5;241m.\u001b[39mto_csv(\u001b[38;5;124m\"\u001b[39m\u001b[38;5;124mtest_results/CSI_summary_test1.csv\u001b[39m\u001b[38;5;124m\"\u001b[39m, index\u001b[38;5;241m=\u001b[39m\u001b[38;5;28;01mFalse\u001b[39;00m)\n\u001b[0;32m     20\u001b[0m \u001b[38;5;28;01mfor\u001b[39;00m feat, df \u001b[38;5;129;01min\u001b[39;00m details_1\u001b[38;5;241m.\u001b[39mitems():\n",
      "File \u001b[1;32mF:\\E-Drive-Backup\\DataScienceTree\\A0_Analytics_Support\\Deepchecks-Automation\\Data_Stability_Metrics\\stability_drift_metrics\\calculate_all_features_drift.py:42\u001b[0m, in \u001b[0;36mcalculate_all_features_drift\u001b[1;34m(reference_df, new_df, bins, method)\u001b[0m\n\u001b[0;32m     38\u001b[0m     \u001b[38;5;28;01mcontinue\u001b[39;00m\n\u001b[0;32m     40\u001b[0m \u001b[38;5;66;03m#try:\u001b[39;00m\n\u001b[0;32m     41\u001b[0m \u001b[38;5;66;03m#print(reference)\u001b[39;00m\n\u001b[1;32m---> 42\u001b[0m drift_output \u001b[38;5;241m=\u001b[39m \u001b[43mcalculate_feature_drift\u001b[49m\u001b[43m(\u001b[49m\u001b[43mreference\u001b[49m\u001b[43m,\u001b[49m\u001b[43m \u001b[49m\u001b[43mactual\u001b[49m\u001b[43m,\u001b[49m\u001b[43m \u001b[49m\u001b[43mbins\u001b[49m\u001b[38;5;241;43m=\u001b[39;49m\u001b[43mbins\u001b[49m\u001b[43m,\u001b[49m\u001b[43m \u001b[49m\u001b[43mmethod\u001b[49m\u001b[38;5;241;43m=\u001b[39;49m\u001b[43mmethod\u001b[49m\u001b[43m)\u001b[49m\n\u001b[0;32m     43\u001b[0m \u001b[38;5;66;03m#print(binning_method, csi_value, csi_df)\u001b[39;00m\n\u001b[0;32m     44\u001b[0m csi_results\u001b[38;5;241m.\u001b[39mappend({\u001b[38;5;124m\"\u001b[39m\u001b[38;5;124mFeature\u001b[39m\u001b[38;5;124m\"\u001b[39m: col, \u001b[38;5;124m\"\u001b[39m\u001b[38;5;124mBinning Strategy\u001b[39m\u001b[38;5;124m\"\u001b[39m: drift_output[\u001b[38;5;124m\"\u001b[39m\u001b[38;5;124mBinning Strategy\u001b[39m\u001b[38;5;124m\"\u001b[39m], \u001b[38;5;124m\"\u001b[39m\u001b[38;5;124mCSI\u001b[39m\u001b[38;5;124m\"\u001b[39m: drift_output[\u001b[38;5;124m'\u001b[39m\u001b[38;5;124mDrift Score\u001b[39m\u001b[38;5;124m'\u001b[39m]})\n",
      "File \u001b[1;32mF:\\E-Drive-Backup\\DataScienceTree\\A0_Analytics_Support\\Deepchecks-Automation\\Data_Stability_Metrics\\stability_drift_metrics\\calculate_feature_drift.py:30\u001b[0m, in \u001b[0;36mcalculate_feature_drift\u001b[1;34m(reference, actual, bins, method)\u001b[0m\n\u001b[0;32m     27\u001b[0m actual \u001b[38;5;241m=\u001b[39m np\u001b[38;5;241m.\u001b[39marray(actual)\n\u001b[0;32m     29\u001b[0m \u001b[38;5;66;03m# Determine if variable is categorical or numerical\u001b[39;00m\n\u001b[1;32m---> 30\u001b[0m is_categorical \u001b[38;5;241m=\u001b[39m reference\u001b[38;5;241m.\u001b[39mdtype \u001b[38;5;241m==\u001b[39m \u001b[38;5;124m'\u001b[39m\u001b[38;5;124mobject\u001b[39m\u001b[38;5;124m'\u001b[39m \u001b[38;5;129;01mor\u001b[39;00m \u001b[38;5;28;43mlen\u001b[39;49m\u001b[43m(\u001b[49m\u001b[43mnp\u001b[49m\u001b[38;5;241;43m.\u001b[39;49m\u001b[43munique\u001b[49m\u001b[43m(\u001b[49m\u001b[43mreference\u001b[49m\u001b[43m)\u001b[49m\u001b[43m)\u001b[49m\u001b[43m \u001b[49m\u001b[38;5;241;43m<\u001b[39;49m\u001b[43m \u001b[49m\u001b[43mbins\u001b[49m\n\u001b[0;32m     32\u001b[0m \u001b[38;5;28;01mif\u001b[39;00m is_categorical:\n\u001b[0;32m     33\u001b[0m     \u001b[38;5;66;03m# Categorical variable binning\u001b[39;00m\n\u001b[0;32m     34\u001b[0m     unique_bins \u001b[38;5;241m=\u001b[39m np\u001b[38;5;241m.\u001b[39munique(np\u001b[38;5;241m.\u001b[39mconcatenate([reference, actual]))\n",
      "\u001b[1;31mTypeError\u001b[0m: '<' not supported between instances of 'int' and 'dict'"
     ]
    }
   ],
   "source": [
    "# ------------------------------\n",
    "# TEST 1: Standard domain binning test\n",
    "# ------------------------------\n",
    "reference_df_1 = pd.DataFrame({\n",
    "    'age': [23, 34, 45, 52, 29, 41, 36, 48, 51, 26],\n",
    "    'education': ['Bachelors', 'HS-grad', 'Masters', 'Some-college', 'HS-grad',\n",
    "                  'Masters', 'Bachelors', 'HS-grad', 'Some-college', 'Assoc-acdm']\n",
    "})\n",
    "new_df_1 = pd.DataFrame({\n",
    "    'age': [24, 32, 46, 54, 28, 42, 39, 50, 53, 27],\n",
    "    'education': ['HS-grad', 'Bachelors', 'Some-college', 'Masters', 'HS-grad',\n",
    "                  'Bachelors', 'Assoc-voc', 'HS-grad', 'Some-college', 'Masters']\n",
    "})\n",
    "domain_bins = {\n",
    "    'age': [0, 25, 35, 45, 55, 100],\n",
    "    'education': ['Bachelors', 'HS-grad', 'Masters', 'Some-college', 'Assoc-acdm', 'Assoc-voc']\n",
    "}\n",
    "csi_df_1, details_1 = calculate_all_features_drift(reference_df_1, new_df_1, bins=domain_bins, method='domain')\n",
    "csi_df_1.to_csv(\"test_results/CSI_summary_test1.csv\", index=False)\n",
    "for feat, df in details_1.items():\n",
    "    df.to_csv(f\"test_results/{feat}_details_test1.csv\")\n",
    "\n"
   ]
  },
  {
   "cell_type": "code",
   "execution_count": null,
   "id": "7227c1a4-fa23-434d-9d3f-b0c9bfd173c6",
   "metadata": {},
   "outputs": [],
   "source": [
    "# ------------------------------\n",
    "# TEST 2: New data missing some bins\n",
    "# ------------------------------\n",
    "new_df_2 = new_df_1.copy()\n",
    "new_df_2['education'] = ['HS-grad', 'HS-grad', 'HS-grad', 'HS-grad', 'HS-grad',\n",
    "                         'HS-grad', 'HS-grad', 'HS-grad', 'HS-grad', 'HS-grad']  # No other categories\n",
    "csi_df_2, details_2 = calculate_all_features_drift(reference_df_1, new_df_2, bins=domain_bins, method='domain')\n",
    "csi_df_2.to_csv(\"test_results/CSI_summary_test2_missing_bins.csv\", index=False)\n",
    "for feat, df in details_2.items():\n",
    "    df.to_csv(f\"test_results/{feat}_details_test2.csv\")\n",
    "\n",
    "# ------------------------------\n",
    "# TEST 3: Completely stable data (identical distributions)\n",
    "# ------------------------------\n",
    "new_df_3 = reference_df_1.copy()\n",
    "csi_df_3, details_3 = calculate_all_features_drift(reference_df_1, new_df_3, bins=domain_bins, method='domain')\n",
    "csi_df_3.to_csv(\"test_results/CSI_summary_test3_identical.csv\", index=False)\n",
    "for feat, df in details_3.items():\n",
    "    df.to_csv(f\"test_results/{feat}_details_test3.csv\")"
   ]
  },
  {
   "cell_type": "code",
   "execution_count": null,
   "id": "2902dc03-4527-41a3-8b01-385e04b20574",
   "metadata": {},
   "outputs": [],
   "source": [
    "# ------------------------------\n",
    "# TEST 4: Drift in age only\n",
    "# ------------------------------\n",
    "new_df_4 = reference_df_1.copy()\n",
    "new_df_4['age'] = [90, 85, 80, 75, 70, 65, 60, 95, 100, 88]  # Older population\n",
    "csi_df_4, details_4 = calculate_all_features_drift(reference_df_1, new_df_4, bins=domain_bins, method='domain')\n",
    "csi_df_4.to_csv(\"test_results/CSI_summary_test4_drift_age.csv\", index=False)\n",
    "for feat, df in details_4.items():\n",
    "    df.to_csv(f\"test_results/{feat}_details_test4.csv\")\n",
    "\n",
    "# ------------------------------\n",
    "# TEST 5: Unseen categories in new data (edge case)\n",
    "# ------------------------------\n",
    "new_df_5 = new_df_1.copy()\n",
    "new_df_5.loc[0, 'education'] = 'PhD'  # Category not in domain\n",
    "csi_df_5, details_5 = calculate_all_features_drift(reference_df_1, new_df_5, bins=domain_bins, method='domain')\n",
    "csi_df_5.to_csv(\"test_results/CSI_summary_test5_unseen_category.csv\", index=False)\n",
    "for feat, df in details_5.items():\n",
    "    df.to_csv(f\"test_results/{feat}_details_test5.csv\")\n",
    "\n",
    "print(\"✅ All test outputs saved to 'test_results/' folder.\")\n"
   ]
  }
 ],
 "metadata": {
  "kernelspec": {
   "display_name": "Python 3 (ipykernel)",
   "language": "python",
   "name": "python3"
  },
  "language_info": {
   "codemirror_mode": {
    "name": "ipython",
    "version": 3
   },
   "file_extension": ".py",
   "mimetype": "text/x-python",
   "name": "python",
   "nbconvert_exporter": "python",
   "pygments_lexer": "ipython3",
   "version": "3.9.12"
  }
 },
 "nbformat": 4,
 "nbformat_minor": 5
}
